{
 "cells": [
  {
   "cell_type": "markdown",
   "id": "11ce9d28",
   "metadata": {},
   "source": [
    "# Hell Yeah Now Started "
   ]
  },
  {
   "cell_type": "code",
   "execution_count": 2,
   "id": "299d448c",
   "metadata": {},
   "outputs": [],
   "source": [
    "import numpy as np \n",
    "import pandas as pd "
   ]
  },
  {
   "cell_type": "code",
   "execution_count": 7,
   "id": "2e8a7756",
   "metadata": {},
   "outputs": [
    {
     "name": "stdout",
     "output_type": "stream",
     "text": [
      "Reading the dataset (9999, 37)\n"
     ]
    }
   ],
   "source": [
    "df =pd.read_csv('dataset2.csv')\n",
    "print(\"Reading the dataset\", df.shape)\n"
   ]
  },
  {
   "cell_type": "code",
   "execution_count": 8,
   "id": "2a79d45f",
   "metadata": {},
   "outputs": [
    {
     "name": "stdout",
     "output_type": "stream",
     "text": [
      "<class 'pandas.core.frame.DataFrame'>\n"
     ]
    }
   ],
   "source": [
    "print(type(df))"
   ]
  },
  {
   "cell_type": "code",
   "execution_count": 17,
   "id": "771e14c3",
   "metadata": {},
   "outputs": [
    {
     "name": "stdout",
     "output_type": "stream",
     "text": [
      "<class 'pandas.core.frame.DataFrame'>\n",
      "RangeIndex: 9999 entries, 0 to 9998\n",
      "Data columns (total 20 columns):\n",
      " #   Column                  Non-Null Count  Dtype  \n",
      "---  ------                  --------------  -----  \n",
      " 0   Call Number             9999 non-null   int64  \n",
      " 1   Incident Number         9999 non-null   int64  \n",
      " 2   Call Type               9999 non-null   object \n",
      " 3   Received DtTm           9999 non-null   object \n",
      " 4   Entry DtTm              9999 non-null   object \n",
      " 5   Dispatch DtTm           9999 non-null   object \n",
      " 6   Response DtTm           9687 non-null   object \n",
      " 7   On Scene DtTm           7972 non-null   object \n",
      " 8   Transport DtTm          2821 non-null   object \n",
      " 9   Hospital DtTm           2758 non-null   object \n",
      " 10  Call Final Disposition  9999 non-null   object \n",
      " 11  Available DtTm          9994 non-null   object \n",
      " 12  Address                 9996 non-null   object \n",
      " 13  City                    9985 non-null   object \n",
      " 14  Zipcode of Incident     9988 non-null   float64\n",
      " 15  Final Priority          9999 non-null   int64  \n",
      " 16  ALS Unit                9999 non-null   bool   \n",
      " 17  Call Type Group         9910 non-null   object \n",
      " 18  Unit Type               9999 non-null   object \n",
      " 19  Analysis Neighborhoods  9984 non-null   float64\n",
      "dtypes: bool(1), float64(2), int64(3), object(14)\n",
      "memory usage: 1.5+ MB\n"
     ]
    }
   ],
   "source": [
    "df.info()"
   ]
  },
  {
   "cell_type": "code",
   "execution_count": 19,
   "id": "06350891",
   "metadata": {},
   "outputs": [
    {
     "data": {
      "text/html": [
       "<div>\n",
       "<style scoped>\n",
       "    .dataframe tbody tr th:only-of-type {\n",
       "        vertical-align: middle;\n",
       "    }\n",
       "\n",
       "    .dataframe tbody tr th {\n",
       "        vertical-align: top;\n",
       "    }\n",
       "\n",
       "    .dataframe thead th {\n",
       "        text-align: right;\n",
       "    }\n",
       "</style>\n",
       "<table border=\"1\" class=\"dataframe\">\n",
       "  <thead>\n",
       "    <tr style=\"text-align: right;\">\n",
       "      <th></th>\n",
       "      <th>Call Number</th>\n",
       "      <th>Incident Number</th>\n",
       "      <th>Zipcode of Incident</th>\n",
       "      <th>Final Priority</th>\n",
       "      <th>Analysis Neighborhoods</th>\n",
       "    </tr>\n",
       "  </thead>\n",
       "  <tbody>\n",
       "    <tr>\n",
       "      <th>count</th>\n",
       "      <td>9.999000e+03</td>\n",
       "      <td>9.999000e+03</td>\n",
       "      <td>9988.000000</td>\n",
       "      <td>9999.000000</td>\n",
       "      <td>9984.000000</td>\n",
       "    </tr>\n",
       "    <tr>\n",
       "      <th>mean</th>\n",
       "      <td>1.603732e+08</td>\n",
       "      <td>1.597701e+07</td>\n",
       "      <td>94113.668302</td>\n",
       "      <td>2.693869</td>\n",
       "      <td>22.339844</td>\n",
       "    </tr>\n",
       "    <tr>\n",
       "      <th>std</th>\n",
       "      <td>1.054271e+07</td>\n",
       "      <td>1.062714e+06</td>\n",
       "      <td>10.547238</td>\n",
       "      <td>0.460908</td>\n",
       "      <td>12.730668</td>\n",
       "    </tr>\n",
       "    <tr>\n",
       "      <th>min</th>\n",
       "      <td>3.229017e+07</td>\n",
       "      <td>3.065715e+06</td>\n",
       "      <td>94102.000000</td>\n",
       "      <td>2.000000</td>\n",
       "      <td>1.000000</td>\n",
       "    </tr>\n",
       "    <tr>\n",
       "      <th>25%</th>\n",
       "      <td>1.609519e+08</td>\n",
       "      <td>1.603764e+07</td>\n",
       "      <td>94103.000000</td>\n",
       "      <td>2.000000</td>\n",
       "      <td>9.000000</td>\n",
       "    </tr>\n",
       "    <tr>\n",
       "      <th>50%</th>\n",
       "      <td>1.609820e+08</td>\n",
       "      <td>1.603892e+07</td>\n",
       "      <td>94110.000000</td>\n",
       "      <td>3.000000</td>\n",
       "      <td>22.000000</td>\n",
       "    </tr>\n",
       "    <tr>\n",
       "      <th>75%</th>\n",
       "      <td>1.610117e+08</td>\n",
       "      <td>1.604020e+07</td>\n",
       "      <td>94122.000000</td>\n",
       "      <td>3.000000</td>\n",
       "      <td>34.000000</td>\n",
       "    </tr>\n",
       "    <tr>\n",
       "      <th>max</th>\n",
       "      <td>2.516819e+08</td>\n",
       "      <td>2.508626e+07</td>\n",
       "      <td>94158.000000</td>\n",
       "      <td>3.000000</td>\n",
       "      <td>41.000000</td>\n",
       "    </tr>\n",
       "  </tbody>\n",
       "</table>\n",
       "</div>"
      ],
      "text/plain": [
       "        Call Number  Incident Number  Zipcode of Incident  Final Priority  \\\n",
       "count  9.999000e+03     9.999000e+03          9988.000000     9999.000000   \n",
       "mean   1.603732e+08     1.597701e+07         94113.668302        2.693869   \n",
       "std    1.054271e+07     1.062714e+06            10.547238        0.460908   \n",
       "min    3.229017e+07     3.065715e+06         94102.000000        2.000000   \n",
       "25%    1.609519e+08     1.603764e+07         94103.000000        2.000000   \n",
       "50%    1.609820e+08     1.603892e+07         94110.000000        3.000000   \n",
       "75%    1.610117e+08     1.604020e+07         94122.000000        3.000000   \n",
       "max    2.516819e+08     2.508626e+07         94158.000000        3.000000   \n",
       "\n",
       "       Analysis Neighborhoods  \n",
       "count             9984.000000  \n",
       "mean                22.339844  \n",
       "std                 12.730668  \n",
       "min                  1.000000  \n",
       "25%                  9.000000  \n",
       "50%                 22.000000  \n",
       "75%                 34.000000  \n",
       "max                 41.000000  "
      ]
     },
     "execution_count": 19,
     "metadata": {},
     "output_type": "execute_result"
    }
   ],
   "source": [
    "df.describe()"
   ]
  },
  {
   "cell_type": "code",
   "execution_count": null,
   "id": "f51b520a",
   "metadata": {},
   "outputs": [],
   "source": [
    "df.head()"
   ]
  },
  {
   "cell_type": "code",
   "execution_count": null,
   "id": "2fd6bff0",
   "metadata": {},
   "outputs": [],
   "source": [
    "df.tail()"
   ]
  },
  {
   "cell_type": "code",
   "execution_count": 14,
   "id": "d4aa5ebc",
   "metadata": {},
   "outputs": [
    {
     "name": "stdout",
     "output_type": "stream",
     "text": [
      "Dataset columns: Index(['Call Number', 'Unit ID', 'Incident Number', 'Call Type', 'Call Date',\n",
      "       'Watch Date', 'Received DtTm', 'Entry DtTm', 'Dispatch DtTm',\n",
      "       'Response DtTm', 'On Scene DtTm', 'Transport DtTm', 'Hospital DtTm',\n",
      "       'Call Final Disposition', 'Available DtTm', 'Address', 'City',\n",
      "       'Zipcode of Incident', 'Battalion', 'Station Area', 'Box',\n",
      "       'Original Priority', 'Priority', 'Final Priority', 'ALS Unit',\n",
      "       'Call Type Group', 'Number of Alarms', 'Unit Type',\n",
      "       'Unit sequence in call dispatch', 'Fire Prevention District',\n",
      "       'Supervisor District', 'Neighborhooods - Analysis Boundaries', 'RowID',\n",
      "       'case_location', 'data_as_of', 'data_loaded_at',\n",
      "       'Analysis Neighborhoods'],\n",
      "      dtype='object')\n"
     ]
    }
   ],
   "source": [
    "print(\"Dataset columns:\", df.columns)"
   ]
  },
  {
   "cell_type": "code",
   "execution_count": 15,
   "id": "83617cab",
   "metadata": {},
   "outputs": [
    {
     "name": "stdout",
     "output_type": "stream",
     "text": [
      "Columns after dropping: Index(['Call Number', 'Incident Number', 'Call Type', 'Received DtTm',\n",
      "       'Entry DtTm', 'Dispatch DtTm', 'Response DtTm', 'On Scene DtTm',\n",
      "       'Transport DtTm', 'Hospital DtTm', 'Call Final Disposition',\n",
      "       'Available DtTm', 'Address', 'City', 'Zipcode of Incident',\n",
      "       'Final Priority', 'ALS Unit', 'Call Type Group', 'Unit Type',\n",
      "       'Analysis Neighborhoods'],\n",
      "      dtype='object')\n"
     ]
    }
   ],
   "source": [
    "columns_to_drop = ['Unit ID', 'Call Date', 'Watch Date', 'Battalion', 'Station Area', 'Box', 'Original Priority', 'Priority', \n",
    " 'Number of Alarms', 'Unit sequence in call dispatch', 'Fire Prevention District', 'Supervisor District', \n",
    " 'Neighborhooods - Analysis Boundaries', 'RowID', 'case_location', 'data_as_of', 'data_loaded_at']\n",
    "df.drop(columns=columns_to_drop, inplace=True)\n",
    "print(\"Columns after dropping:\", df.columns)"
   ]
  },
  {
   "cell_type": "markdown",
   "id": "dcafd489",
   "metadata": {},
   "source": [
    "<h3 style=\"color:#8B0000\">Checking NULL values in dataset</h3>"
   ]
  },
  {
   "cell_type": "code",
   "execution_count": 16,
   "id": "5728261a",
   "metadata": {},
   "outputs": [
    {
     "name": "stdout",
     "output_type": "stream",
     "text": [
      "Call Number                  0\n",
      "Incident Number              0\n",
      "Call Type                    0\n",
      "Received DtTm                0\n",
      "Entry DtTm                   0\n",
      "Dispatch DtTm                0\n",
      "Response DtTm              312\n",
      "On Scene DtTm             2027\n",
      "Transport DtTm            7178\n",
      "Hospital DtTm             7241\n",
      "Call Final Disposition       0\n",
      "Available DtTm               5\n",
      "Address                      3\n",
      "City                        14\n",
      "Zipcode of Incident         11\n",
      "Final Priority               0\n",
      "ALS Unit                     0\n",
      "Call Type Group             89\n",
      "Unit Type                    0\n",
      "Analysis Neighborhoods      15\n",
      "dtype: int64\n"
     ]
    }
   ],
   "source": [
    "print(df.isnull().sum())"
   ]
  },
  {
   "cell_type": "code",
   "execution_count": null,
   "id": "03785fae",
   "metadata": {},
   "outputs": [],
   "source": [
    "df.to_csv('dataset2_cleaned.csv', index=False)"
   ]
  },
  {
   "cell_type": "code",
   "execution_count": 25,
   "id": "81366c83",
   "metadata": {},
   "outputs": [
    {
     "name": "stdout",
     "output_type": "stream",
     "text": [
      "Reading the cleaned dataset (9999, 20)\n"
     ]
    }
   ],
   "source": [
    "df2 = pd.read_csv('dataset2_cleaned.csv')\n",
    "print(\"Reading the cleaned dataset\", df2.shape)"
   ]
  },
  {
   "cell_type": "code",
   "execution_count": null,
   "id": "8c65a006",
   "metadata": {},
   "outputs": [],
   "source": []
  }
 ],
 "metadata": {
  "kernelspec": {
   "display_name": "venv",
   "language": "python",
   "name": "python3"
  },
  "language_info": {
   "codemirror_mode": {
    "name": "ipython",
    "version": 3
   },
   "file_extension": ".py",
   "mimetype": "text/x-python",
   "name": "python",
   "nbconvert_exporter": "python",
   "pygments_lexer": "ipython3",
   "version": "3.13.3"
  }
 },
 "nbformat": 4,
 "nbformat_minor": 5
}
